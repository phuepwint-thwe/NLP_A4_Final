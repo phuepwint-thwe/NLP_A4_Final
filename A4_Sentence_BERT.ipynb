{
 "cells": [
  {
   "attachments": {},
   "cell_type": "markdown",
   "metadata": {
    "id": "bSz5jzj61nHc"
   },
   "source": [
    "# BERT (Updated 1 Feb 2025, Available CUDA)\n",
    "\n",
    "We shall implement BERT.  For this tutorial, you may want to first look at my Transformers tutorial to get a basic understanding of Transformers. \n",
    "\n",
    "For BERT, the main difference is on how we process the datasets, i.e., masking.   Aside from that, the backbone model is still the Transformers."
   ]
  },
  {
   "cell_type": "code",
   "execution_count": 1,
   "metadata": {
    "id": "-8kZmr4ItGUj"
   },
   "outputs": [],
   "source": [
    "import math\n",
    "import re\n",
    "from   random import *\n",
    "import numpy as np\n",
    "import torch\n",
    "import torch.nn as nn\n",
    "import torch.optim as optim\n",
    "import torch.nn.functional as F\n",
    "import os"
   ]
  },
  {
   "cell_type": "code",
   "execution_count": 2,
   "metadata": {},
   "outputs": [
    {
     "name": "stdout",
     "output_type": "stream",
     "text": [
      "cuda\n"
     ]
    }
   ],
   "source": [
    "# Set GPU device\n",
    "os.environ[\"CUDA_VISIBLE_DEVICES\"] = \"3\"\n",
    "\n",
    "os.environ['http_proxy']  = 'http://192.41.170.23:3128'\n",
    "os.environ['https_proxy'] = 'http://192.41.170.23:3128'\n",
    "device = torch.device(\"cuda\" if torch.cuda.is_available() else \"cpu\")\n",
    "device\n",
    "print(device)\n",
    "\n",
    "#make our work comparable if restarted the kernel\n",
    "SEED = 1234\n",
    "torch.manual_seed(SEED)\n",
    "torch.backends.cudnn.deterministic = True\n",
    "\n",
    "# torch.cuda.get_device_name(0)"
   ]
  },
  {
   "cell_type": "markdown",
   "metadata": {},
   "source": [
    "## 1. Data\n",
    "\n",
    "For simplicity, we shall use very simple data like this."
   ]
  },
  {
   "cell_type": "code",
   "execution_count": 3,
   "metadata": {},
   "outputs": [
    {
     "data": {
      "text/plain": [
       "Dataset({\n",
       "    features: ['text'],\n",
       "    num_rows: 100000\n",
       "})"
      ]
     },
     "execution_count": 3,
     "metadata": {},
     "output_type": "execute_result"
    }
   ],
   "source": [
    "from datasets import load_dataset\n",
    "\n",
    "# Load BookCorpus dataset\n",
    "# The first 1% of `train` split.\n",
    "dataset = load_dataset('bookcorpus', split='train[:1%]')\n",
    "dataset = dataset.select(range(100000))\n",
    "dataset"
   ]
  },
  {
   "cell_type": "code",
   "execution_count": 4,
   "metadata": {},
   "outputs": [],
   "source": [
    "sentences = dataset['text']\n",
    "text = [x.lower() for x in sentences] #lower case\n",
    "text = [re.sub(\"[.,!?\\\\-]\", '', x) for x in text] #clean all symbols\n",
    "# text"
   ]
  },
  {
   "cell_type": "code",
   "execution_count": 5,
   "metadata": {},
   "outputs": [
    {
     "name": "stdout",
     "output_type": "stream",
     "text": [
      "usually  he would be tearing around the living room  playing with his toys  _____\n",
      "['usually', 'he', 'would', 'be', 'tearing', 'around', 'the', 'living', 'room', 'playing', 'with', 'his', 'toys']\n"
     ]
    }
   ],
   "source": [
    "for sentence in text:\n",
    "    print(sentence, \"_____\")\n",
    "    words = sentence.split()\n",
    "    print(words)\n",
    "    break"
   ]
  },
  {
   "attachments": {},
   "cell_type": "markdown",
   "metadata": {},
   "source": [
    "### Making vocabs\n",
    "\n",
    "Before making the vocabs, let's remove all question marks and perios, etc, then turn everything to lowercase, and then simply split the text. "
   ]
  },
  {
   "cell_type": "code",
   "execution_count": 6,
   "metadata": {},
   "outputs": [
    {
     "data": {
      "application/vnd.jupyter.widget-view+json": {
       "model_id": "5269bc6bc2ba4998b1b2a71134a170d6",
       "version_major": 2,
       "version_minor": 0
      },
      "text/plain": [
       "Creating word2id: 0it [00:00, ?it/s]"
      ]
     },
     "metadata": {},
     "output_type": "display_data"
    },
    {
     "data": {
      "text/plain": [
       "23069"
      ]
     },
     "execution_count": 6,
     "metadata": {},
     "output_type": "execute_result"
    }
   ],
   "source": [
    "from tqdm.auto import tqdm\n",
    "\n",
    "# Combine everything into one to make vocab\n",
    "word_list = list(set(\" \".join(text).split()))\n",
    "word2id = {'[PAD]': 0, '[CLS]': 1, '[SEP]': 2, '[MASK]': 3, '[UNK]': 4}  # special tokens\n",
    "\n",
    "# Create the word2id in a single pass\n",
    "for i, w in tqdm(enumerate(word_list), desc=\"Creating word2id\"):\n",
    "    word2id[w] = i + 5  # because 0-3 are already occupied\n",
    "\n",
    "# Precompute the id2word mapping (this can be done once after word2id is fully populated)\n",
    "id2word = {v: k for k, v in word2id.items()}\n",
    "vocab_size = len(word2id)\n",
    "vocab_size"
   ]
  },
  {
   "cell_type": "code",
   "execution_count": 7,
   "metadata": {},
   "outputs": [
    {
     "data": {
      "application/vnd.jupyter.widget-view+json": {
       "model_id": "1c5b49356422427db42d6da94358ca6c",
       "version_major": 2,
       "version_minor": 0
      },
      "text/plain": [
       "Processing sentences:   0%|          | 0/100000 [00:00<?, ?it/s]"
      ]
     },
     "metadata": {},
     "output_type": "display_data"
    }
   ],
   "source": [
    "vocab_size = len(word2id)\n",
    "\n",
    "# List of all tokens for the whole text\n",
    "token_list = []\n",
    "\n",
    "# Process sentences more efficiently\n",
    "for sentence in tqdm(text, desc=\"Processing sentences\"):\n",
    "    token_list.append([word2id[word] for word in sentence.split()])\n",
    "\n",
    "# Now token_list contains the tokenized sentences"
   ]
  },
  {
   "cell_type": "code",
   "execution_count": 8,
   "metadata": {},
   "outputs": [
    {
     "data": {
      "text/plain": [
       "['usually , he would be tearing around the living room , playing with his toys .',\n",
       " 'but just one look at a minion sent him practically catatonic .']"
      ]
     },
     "execution_count": 8,
     "metadata": {},
     "output_type": "execute_result"
    }
   ],
   "source": [
    "#take a look at sentences\n",
    "sentences[:2]"
   ]
  },
  {
   "cell_type": "code",
   "execution_count": 9,
   "metadata": {
    "colab": {
     "base_uri": "https://localhost:8080/"
    },
    "id": "pZ42SFLKtsv_",
    "outputId": "16c28ac8-8349-48ab-f1d3-a9431e658349",
    "scrolled": true
   },
   "outputs": [
    {
     "data": {
      "text/plain": [
       "[[14203,\n",
       "  564,\n",
       "  816,\n",
       "  11098,\n",
       "  8200,\n",
       "  16073,\n",
       "  4389,\n",
       "  5175,\n",
       "  13833,\n",
       "  8905,\n",
       "  1817,\n",
       "  13407,\n",
       "  13834],\n",
       " [18001, 15059, 21255, 13626, 12734, 15838, 21774, 3498, 8215, 1829, 17310]]"
      ]
     },
     "execution_count": 9,
     "metadata": {},
     "output_type": "execute_result"
    }
   ],
   "source": [
    "#take a look at token_list\n",
    "token_list[:2]"
   ]
  },
  {
   "cell_type": "code",
   "execution_count": 10,
   "metadata": {},
   "outputs": [
    {
     "name": "stdout",
     "output_type": "stream",
     "text": [
      "usually\n",
      "he\n",
      "would\n",
      "be\n",
      "tearing\n",
      "around\n",
      "the\n",
      "living\n",
      "room\n",
      "playing\n",
      "with\n",
      "his\n",
      "toys\n"
     ]
    }
   ],
   "source": [
    "#testing one sentence\n",
    "for tokens in token_list[0]:\n",
    "    print(id2word[tokens])"
   ]
  },
  {
   "attachments": {},
   "cell_type": "markdown",
   "metadata": {},
   "source": [
    "## 2. Data loader\n",
    "\n",
    "We gonna make dataloader.  Inside here, we need to make two types of embeddings: **token embedding** and **segment embedding**\n",
    "\n",
    "1. **Token embedding** - Given “The cat is walking. The dog is barking”, we add [CLS] and [SEP] >> “[CLS] the cat is walking [SEP] the dog is barking”. \n",
    "\n",
    "2. **Segment embedding**\n",
    "A segment embedding separates two sentences, i.e., [0 0 0 0 1 1 1 1 ]\n",
    "\n",
    "3. **Masking**\n",
    "As mentioned in the original paper, BERT randomly assigns masks to 15% of the sequence. In this 15%, 80% is replaced with masks, while 10% is replaced with random tokens, and the rest 10% is left as is.  Here we specified `max_pred` \n",
    "\n",
    "4. **Padding**\n",
    "Once we mask, we will add padding. For simplicity, here we padded until some specified `max_len`. \n",
    "\n",
    "Note:  `positive` and `negative` are just simply counts to keep track of the batch size.  `positive` refers to two sentences that are really next to one another."
   ]
  },
  {
   "cell_type": "code",
   "execution_count": 11,
   "metadata": {},
   "outputs": [],
   "source": [
    "batch_size = 4\n",
    "max_mask   = 5  # max masked tokens when 15% exceed, it will only be max_pred\n",
    "max_len    = 1000 # maximum of length to be padded; "
   ]
  },
  {
   "cell_type": "code",
   "execution_count": 12,
   "metadata": {
    "id": "TtyOOmRntu8w"
   },
   "outputs": [],
   "source": [
    "def make_batch():\n",
    "    batch = []\n",
    "    positive = negative = 0  #count of batch size;  we want to have half batch that are positive pairs (i.e., next sentence pairs)\n",
    "    while positive != batch_size/2 or negative != batch_size/2:\n",
    "        \n",
    "        #randomly choose two sentence so we can put [SEP]\n",
    "        tokens_a_index, tokens_b_index = randrange(len(sentences)), randrange(len(sentences))\n",
    "        #retrieve the two sentences\n",
    "        tokens_a, tokens_b = token_list[tokens_a_index], token_list[tokens_b_index]\n",
    "\n",
    "        #1. token embedding - append CLS and SEP\n",
    "        input_ids = [word2id['[CLS]']] + tokens_a + [word2id['[SEP]']] + tokens_b + [word2id['[SEP]']]\n",
    "\n",
    "        #2. segment embedding - [0, 0, 0, 0, 0, 0, 0, 0, 0, 0, 1, 1, 1, 1, 1, 1, 1, 1]\n",
    "        segment_ids = [0] * (1 + len(tokens_a) + 1) + [1] * (len(tokens_b) + 1)\n",
    "\n",
    "        #3. mask language modeling\n",
    "        #masked 15%, but should be at least 1 but does not exceed max_mask\n",
    "        n_pred =  min(max_mask, max(1, int(round(len(input_ids) * 0.15))))\n",
    "        #get the pos that excludes CLS and SEP and shuffle them\n",
    "        cand_maked_pos = [i for i, token in enumerate(input_ids) if token != word2id['[CLS]'] and token != word2id['[SEP]']]\n",
    "        shuffle(cand_maked_pos)\n",
    "        masked_tokens, masked_pos = [], []\n",
    "        #simply loop and change the input_ids to [MASK]\n",
    "        for pos in cand_maked_pos[:n_pred]:\n",
    "            masked_pos.append(pos)  #remember the position\n",
    "            masked_tokens.append(input_ids[pos]) #remember the tokens\n",
    "            #80% replace with a [MASK], but 10% will replace with a random token\n",
    "            if random() < 0.1:  # 10%\n",
    "                index = randint(0, vocab_size - 1) # random index in vocabulary\n",
    "                input_ids[pos] = word2id[id2word[index]] # replace\n",
    "            elif random() < 0.9:  # 80%\n",
    "                input_ids[pos] = word2id['[MASK]'] # make mask\n",
    "            else:  #10% do nothing\n",
    "                pass\n",
    "\n",
    "        # pad the input_ids and segment ids until the max len\n",
    "        n_pad = max_len - len(input_ids)\n",
    "        input_ids.extend([0] * n_pad)\n",
    "        segment_ids.extend([0] * n_pad)\n",
    "\n",
    "        # pad the masked_tokens and masked_pos to make sure the lenth is max_mask\n",
    "        if max_mask > n_pred:\n",
    "            n_pad = max_mask - n_pred\n",
    "            masked_tokens.extend([0] * n_pad)\n",
    "            masked_pos.extend([0] * n_pad)\n",
    "\n",
    "        #check if first sentence is really comes before the second sentence\n",
    "        #also make sure positive is exactly half the batch size\n",
    "        if tokens_a_index + 1 == tokens_b_index and positive < batch_size / 2:\n",
    "            batch.append([input_ids, segment_ids, masked_tokens, masked_pos, True]) # IsNext\n",
    "            positive += 1\n",
    "        elif tokens_a_index + 1 != tokens_b_index and negative < batch_size/2:\n",
    "            batch.append([input_ids, segment_ids, masked_tokens, masked_pos, False]) # NotNext\n",
    "            negative += 1\n",
    "            \n",
    "    return batch"
   ]
  },
  {
   "cell_type": "code",
   "execution_count": 13,
   "metadata": {
    "id": "Q7_HC-Y0jC3K"
   },
   "outputs": [],
   "source": [
    "batch = make_batch()"
   ]
  },
  {
   "cell_type": "code",
   "execution_count": 14,
   "metadata": {},
   "outputs": [
    {
     "data": {
      "text/plain": [
       "4"
      ]
     },
     "execution_count": 14,
     "metadata": {},
     "output_type": "execute_result"
    }
   ],
   "source": [
    "#len of batch\n",
    "len(batch)"
   ]
  },
  {
   "cell_type": "code",
   "execution_count": 15,
   "metadata": {},
   "outputs": [
    {
     "data": {
      "text/plain": [
       "(torch.Size([4, 1000]),\n",
       " torch.Size([4, 1000]),\n",
       " torch.Size([4, 5]),\n",
       " torch.Size([4, 5]),\n",
       " torch.Size([4]))"
      ]
     },
     "execution_count": 15,
     "metadata": {},
     "output_type": "execute_result"
    }
   ],
   "source": [
    "#we can deconstruct using map and zip\n",
    "input_ids, segment_ids, masked_tokens, masked_pos, isNext = map(torch.LongTensor, zip(*batch))\n",
    "input_ids.shape, segment_ids.shape, masked_tokens.shape, masked_pos.shape, isNext.shape"
   ]
  },
  {
   "attachments": {},
   "cell_type": "markdown",
   "metadata": {},
   "source": [
    "## 3. Model\n",
    "\n",
    "Recall that BERT only uses the encoder.\n",
    "\n",
    "BERT has the following components:\n",
    "\n",
    "- Embedding layers\n",
    "- Attention Mask\n",
    "- Encoder layer\n",
    "- Multi-head attention\n",
    "- Scaled dot product attention\n",
    "- Position-wise feed-forward network\n",
    "- BERT (assembling all the components)"
   ]
  },
  {
   "attachments": {},
   "cell_type": "markdown",
   "metadata": {},
   "source": [
    "## 3.1 Embedding\n",
    "\n",
    "Here we simply generate the positional embedding, and sum the token embedding, positional embedding, and segment embedding together.\n",
    "\n",
    "<img src = \"figures/BERT_embed.png\" width=500>"
   ]
  },
  {
   "cell_type": "code",
   "execution_count": 16,
   "metadata": {},
   "outputs": [],
   "source": [
    "class Embedding(nn.Module):\n",
    "    def __init__(self):\n",
    "        super(Embedding, self).__init__()\n",
    "        self.tok_embed = nn.Embedding(vocab_size, d_model)  # token embedding\n",
    "        self.pos_embed = nn.Embedding(max_len, d_model)      # position embedding\n",
    "        self.seg_embed = nn.Embedding(n_segments, d_model)  # segment(token type) embedding\n",
    "        self.norm = nn.LayerNorm(d_model)\n",
    "\n",
    "    def forward(self, x, seg):\n",
    "        #x, seg: (bs, len)\n",
    "        seq_len = x.size(1)\n",
    "        pos = torch.arange(seq_len, dtype=torch.long)\n",
    "        pos = pos.unsqueeze(0).expand_as(x)  # (len,) -> (bs, len)\n",
    "        embedding = self.tok_embed(x) + self.pos_embed(pos) + self.seg_embed(seg)\n",
    "        return self.norm(embedding)"
   ]
  },
  {
   "cell_type": "markdown",
   "metadata": {},
   "source": [
    "## 3.2 Attention mask"
   ]
  },
  {
   "cell_type": "code",
   "execution_count": 17,
   "metadata": {
    "id": "s1PGksqBNuZM"
   },
   "outputs": [],
   "source": [
    "def get_attn_pad_mask(seq_q, seq_k):\n",
    "    batch_size, len_q = seq_q.size()\n",
    "    batch_size, len_k = seq_k.size()\n",
    "    # eq(zero) is PAD token\n",
    "    pad_attn_mask = seq_k.data.eq(0).unsqueeze(1)  # batch_size x 1 x len_k(=len_q), one is masking\n",
    "    return pad_attn_mask.expand(batch_size, len_q, len_k)  # batch_size x len_q x len_k"
   ]
  },
  {
   "cell_type": "markdown",
   "metadata": {},
   "source": [
    "### Testing the attention mask"
   ]
  },
  {
   "cell_type": "code",
   "execution_count": 18,
   "metadata": {},
   "outputs": [
    {
     "name": "stdout",
     "output_type": "stream",
     "text": [
      "torch.Size([4, 1000, 1000])\n"
     ]
    }
   ],
   "source": [
    "print(get_attn_pad_mask(input_ids, input_ids).shape)"
   ]
  },
  {
   "attachments": {},
   "cell_type": "markdown",
   "metadata": {},
   "source": [
    "## 3.3 Encoder\n",
    "\n",
    "The encoder has two main components: \n",
    "\n",
    "- Multi-head Attention\n",
    "- Position-wise feed-forward network\n",
    "\n",
    "First let's make the wrapper called `EncoderLayer`"
   ]
  },
  {
   "cell_type": "code",
   "execution_count": 19,
   "metadata": {},
   "outputs": [],
   "source": [
    "class EncoderLayer(nn.Module):\n",
    "    def __init__(self):\n",
    "        super(EncoderLayer, self).__init__()\n",
    "        self.enc_self_attn = MultiHeadAttention()\n",
    "        self.pos_ffn       = PoswiseFeedForwardNet()\n",
    "\n",
    "    def forward(self, enc_inputs, enc_self_attn_mask):\n",
    "        enc_outputs, attn = self.enc_self_attn(enc_inputs, enc_inputs, enc_inputs, enc_self_attn_mask) # enc_inputs to same Q,K,V\n",
    "        enc_outputs = self.pos_ffn(enc_outputs) # enc_outputs: [batch_size x len_q x d_model]\n",
    "        return enc_outputs, attn"
   ]
  },
  {
   "cell_type": "markdown",
   "metadata": {},
   "source": [
    "Let's define the scaled dot attention, to be used inside the multihead attention"
   ]
  },
  {
   "cell_type": "code",
   "execution_count": 20,
   "metadata": {},
   "outputs": [],
   "source": [
    "class ScaledDotProductAttention(nn.Module):\n",
    "    def __init__(self):\n",
    "        super(ScaledDotProductAttention, self).__init__()\n",
    "\n",
    "    def forward(self, Q, K, V, attn_mask):\n",
    "        scores = torch.matmul(Q, K.transpose(-1, -2)) / np.sqrt(d_k) # scores : [batch_size x n_heads x len_q(=len_k) x len_k(=len_q)]\n",
    "        scores.masked_fill_(attn_mask, -1e9) # Fills elements of self tensor with value where mask is one.\n",
    "        attn = nn.Softmax(dim=-1)(scores)\n",
    "        context = torch.matmul(attn, V)\n",
    "        return context, attn "
   ]
  },
  {
   "cell_type": "markdown",
   "metadata": {},
   "source": [
    "Let's define the parameters first"
   ]
  },
  {
   "cell_type": "code",
   "execution_count": 21,
   "metadata": {},
   "outputs": [],
   "source": [
    "n_layers = 6    # number of Encoder of Encoder Layer\n",
    "n_heads  = 8    # number of heads in Multi-Head Attention\n",
    "d_model  = 768  # Embedding Size\n",
    "d_ff = 768 * 4  # 4*d_model, FeedForward dimension\n",
    "d_k = d_v = 64  # dimension of K(=Q), V\n",
    "n_segments = 2"
   ]
  },
  {
   "cell_type": "markdown",
   "metadata": {},
   "source": [
    "Here is the Multiheadattention."
   ]
  },
  {
   "cell_type": "code",
   "execution_count": 22,
   "metadata": {},
   "outputs": [],
   "source": [
    "class MultiHeadAttention(nn.Module):\n",
    "    def __init__(self):\n",
    "        super(MultiHeadAttention, self).__init__()\n",
    "        self.W_Q = nn.Linear(d_model, d_k * n_heads)\n",
    "        self.W_K = nn.Linear(d_model, d_k * n_heads)\n",
    "        self.W_V = nn.Linear(d_model, d_v * n_heads)\n",
    "    def forward(self, Q, K, V, attn_mask):\n",
    "        # q: [batch_size x len_q x d_model], k: [batch_size x len_k x d_model], v: [batch_size x len_k x d_model]\n",
    "        residual, batch_size = Q, Q.size(0)\n",
    "        # (B, S, D) -proj-> (B, S, D) -split-> (B, S, H, W) -trans-> (B, H, S, W)\n",
    "        q_s = self.W_Q(Q).view(batch_size, -1, n_heads, d_k).transpose(1,2)  # q_s: [batch_size x n_heads x len_q x d_k]\n",
    "        k_s = self.W_K(K).view(batch_size, -1, n_heads, d_k).transpose(1,2)  # k_s: [batch_size x n_heads x len_k x d_k]\n",
    "        v_s = self.W_V(V).view(batch_size, -1, n_heads, d_v).transpose(1,2)  # v_s: [batch_size x n_heads x len_k x d_v]\n",
    "\n",
    "        attn_mask = attn_mask.unsqueeze(1).repeat(1, n_heads, 1, 1) # attn_mask : [batch_size x n_heads x len_q x len_k]\n",
    "\n",
    "        # context: [batch_size x n_heads x len_q x d_v], attn: [batch_size x n_heads x len_q(=len_k) x len_k(=len_q)]\n",
    "        context, attn = ScaledDotProductAttention()(q_s, k_s, v_s, attn_mask)\n",
    "        context = context.transpose(1, 2).contiguous().view(batch_size, -1, n_heads * d_v) # context: [batch_size x len_q x n_heads * d_v]\n",
    "        output = nn.Linear(n_heads * d_v, d_model)(context)\n",
    "        return nn.LayerNorm(d_model)(output + residual), attn # output: [batch_size x len_q x d_model]"
   ]
  },
  {
   "attachments": {},
   "cell_type": "markdown",
   "metadata": {},
   "source": [
    "Here is the PoswiseFeedForwardNet."
   ]
  },
  {
   "cell_type": "code",
   "execution_count": 23,
   "metadata": {},
   "outputs": [],
   "source": [
    "class PoswiseFeedForwardNet(nn.Module):\n",
    "    def __init__(self):\n",
    "        super(PoswiseFeedForwardNet, self).__init__()\n",
    "        self.fc1 = nn.Linear(d_model, d_ff)\n",
    "        self.fc2 = nn.Linear(d_ff, d_model)\n",
    "\n",
    "    def forward(self, x):\n",
    "        # (batch_size, len_seq, d_model) -> (batch_size, len_seq, d_ff) -> (batch_size, len_seq, d_model)\n",
    "        return self.fc2(F.gelu(self.fc1(x)))"
   ]
  },
  {
   "cell_type": "markdown",
   "metadata": {},
   "source": [
    "## 3.4 Putting them together"
   ]
  },
  {
   "cell_type": "code",
   "execution_count": 24,
   "metadata": {
    "id": "OZ0TJ84W4SZw"
   },
   "outputs": [],
   "source": [
    "class BERT(nn.Module):\n",
    "    def __init__(self):\n",
    "        super(BERT, self).__init__()\n",
    "        self.embedding = Embedding()\n",
    "        self.layers = nn.ModuleList([EncoderLayer() for _ in range(n_layers)])\n",
    "        self.fc = nn.Linear(d_model, d_model)\n",
    "        self.activ = nn.Tanh()\n",
    "        self.linear = nn.Linear(d_model, d_model)\n",
    "        self.norm = nn.LayerNorm(d_model)\n",
    "        self.classifier = nn.Linear(d_model, 2)\n",
    "        # decoder is shared with embedding layer\n",
    "        embed_weight = self.embedding.tok_embed.weight\n",
    "        n_vocab, n_dim = embed_weight.size()\n",
    "        self.decoder = nn.Linear(n_dim, n_vocab, bias=False)\n",
    "        self.decoder.weight = embed_weight\n",
    "        self.decoder_bias = nn.Parameter(torch.zeros(n_vocab))\n",
    "\n",
    "    def forward(self, input_ids, segment_ids, masked_pos):\n",
    "        output = self.embedding(input_ids, segment_ids)\n",
    "        enc_self_attn_mask = get_attn_pad_mask(input_ids, input_ids)\n",
    "        for layer in self.layers:\n",
    "            output, enc_self_attn = layer(output, enc_self_attn_mask)\n",
    "        # output : [batch_size, len, d_model], attn : [batch_size, n_heads, d_mode, d_model]\n",
    "        \n",
    "        # 1. predict next sentence\n",
    "        # it will be decided by first token(CLS)\n",
    "        h_pooled   = self.activ(self.fc(output[:, 0])) # [batch_size, d_model]\n",
    "        logits_nsp = self.classifier(h_pooled) # [batch_size, 2]\n",
    "\n",
    "        # 2. predict the masked token\n",
    "        masked_pos = masked_pos[:, :, None].expand(-1, -1, output.size(-1)) # [batch_size, max_pred, d_model]\n",
    "        h_masked = torch.gather(output, 1, masked_pos) # masking position [batch_size, max_pred, d_model]\n",
    "        h_masked  = self.norm(F.gelu(self.linear(h_masked)))\n",
    "        logits_lm = self.decoder(h_masked) + self.decoder_bias # [batch_size, max_pred, n_vocab]\n",
    "\n",
    "        return logits_lm, logits_nsp"
   ]
  },
  {
   "attachments": {},
   "cell_type": "markdown",
   "metadata": {},
   "source": [
    "## 4. Training"
   ]
  },
  {
   "cell_type": "code",
   "execution_count": 25,
   "metadata": {},
   "outputs": [],
   "source": [
    "def epoch_time(start_time, end_time):\n",
    "    elapsed_time = end_time - start_time\n",
    "    elapsed_mins = int(elapsed_time / 60)\n",
    "    elapsed_secs = int(elapsed_time - (elapsed_mins * 60))\n",
    "    return elapsed_mins, elapsed_secs"
   ]
  },
  {
   "cell_type": "code",
   "execution_count": null,
   "metadata": {},
   "outputs": [
    {
     "name": "stdout",
     "output_type": "stream",
     "text": [
      "Epoch: 00 loss = 102.815659\n",
      "Epoch: 100 loss = 2.937565\n",
      "Epoch: 200 loss = 5.830076\n"
     ]
    }
   ],
   "source": [
    "import time\n",
    "\n",
    "num_epoch = 1000\n",
    "model = BERT()\n",
    "criterion = nn.CrossEntropyLoss()\n",
    "optimizer = optim.Adam(model.parameters(), lr=0.001)\n",
    "\n",
    "batch = make_batch()\n",
    "input_ids, segment_ids, masked_tokens, masked_pos, isNext = map(torch.LongTensor, zip(*batch))\n",
    "\n",
    "best_loss = float('inf')\n",
    "\n",
    "start_time = time.time()\n",
    "for epoch in range(num_epoch):\n",
    "    optimizer.zero_grad()\n",
    "    logits_lm, logits_nsp = model(input_ids, segment_ids, masked_pos)    \n",
    "\n",
    "    #1. mlm loss\n",
    "    #logits_lm.transpose: (bs, vocab_size, max_mask) vs. masked_tokens: (bs, max_mask)\n",
    "    loss_lm = criterion(logits_lm.transpose(1, 2), masked_tokens) # for masked LM\n",
    "    loss_lm = (loss_lm.float()).mean()\n",
    "    #2. nsp loss\n",
    "    #logits_nsp: (bs, 2) vs. isNext: (bs, )\n",
    "    loss_nsp = criterion(logits_nsp, isNext) # for sentence classification\n",
    "    \n",
    "    #3. combine loss\n",
    "    loss = loss_lm + loss_nsp\n",
    "    if loss < best_loss:\n",
    "        best_loss = loss\n",
    "        torch.save(model.state_dict(), 'models/BERT-model.pt')\n",
    "\n",
    "    if epoch % 100 == 0:\n",
    "        print('Epoch:', '%02d' % (epoch), 'loss =', '{:.6f}'.format(loss))\n",
    "    loss.backward()\n",
    "    optimizer.step()\n",
    "\n",
    "end_time = time.time()\n",
    "epoch_mins, epoch_secs = epoch_time(start_time, end_time)\n",
    "print(f'Time: {epoch_mins}m {epoch_secs}s')"
   ]
  },
  {
   "cell_type": "code",
   "execution_count": null,
   "metadata": {},
   "outputs": [],
   "source": [
    "# criterion = nn.CrossEntropyLoss()\n",
    "# optimizer = optim.Adam(model.parameters(), lr=0.001)"
   ]
  },
  {
   "cell_type": "code",
   "execution_count": null,
   "metadata": {
    "colab": {
     "base_uri": "https://localhost:8080/"
    },
    "id": "8UAG3SEP4UbU",
    "outputId": "bc6f202f-df37-4fac-843c-fb86bdb777b2"
   },
   "outputs": [],
   "source": [
    "# batch = make_batch()\n",
    "# input_ids, segment_ids, masked_tokens, masked_pos, isNext = map(torch.LongTensor, zip(*batch))\n",
    "\n",
    "# # Move inputs to GPU\n",
    "# input_ids = input_ids.to(device)\n",
    "# segment_ids = segment_ids.to(device)\n",
    "# masked_tokens = masked_tokens.to(device)\n",
    "# masked_pos = masked_pos.to(device)\n",
    "# isNext = isNext.to(device)\n",
    "\n",
    "# # Wrap the epoch loop with tqdm\n",
    "# for epoch in tqdm(range(num_epoch), desc=\"Training Epochs\"):\n",
    "#     torch.cuda.empty_cache()\n",
    "#     optimizer.zero_grad()\n",
    "#     logits_lm, logits_nsp = model(input_ids, segment_ids, masked_pos)    \n",
    "#     #logits_lm: (bs, max_mask, vocab_size) ==> (6, 5, 34)\n",
    "#     #logits_nsp: (bs, yes/no) ==> (6, 2)\n",
    "\n",
    "#     #1. mlm loss\n",
    "#     #logits_lm.transpose: (bs, vocab_size, max_mask) vs. masked_tokens: (bs, max_mask)\n",
    "#     loss_lm = criterion(logits_lm.transpose(1, 2), masked_tokens) # for masked LM\n",
    "#     loss_lm = (loss_lm.float()).mean()\n",
    "#     #2. nsp loss\n",
    "#     #logits_nsp: (bs, 2) vs. isNext: (bs, )\n",
    "#     loss_nsp = criterion(logits_nsp, isNext) # for sentence classification\n",
    "    \n",
    "#     #3. combine loss\n",
    "#     loss = loss_lm + loss_nsp\n",
    "#     if epoch % 100 == 0:\n",
    "#         print('Epoch:', '%02d' % (epoch), 'loss =', '{:.6f}'.format(loss))\n",
    "#     loss.backward()\n",
    "#     optimizer.step()"
   ]
  },
  {
   "attachments": {},
   "cell_type": "markdown",
   "metadata": {},
   "source": [
    "## 5. Inference\n",
    "\n",
    "Since our dataset is very small, it won't work very well, but just for the sake of demonstration."
   ]
  },
  {
   "cell_type": "code",
   "execution_count": null,
   "metadata": {
    "colab": {
     "base_uri": "https://localhost:8080/"
    },
    "id": "uD3K8T6B4YJp",
    "outputId": "e057405b-1f78-431c-fa71-032a738fb848"
   },
   "outputs": [],
   "source": [
    "# Predict mask tokens ans isNext\n",
    "input_ids, segment_ids, masked_tokens, masked_pos, isNext = map(torch.LongTensor, zip(batch[2]))\n",
    "print([id2word[w.item()] for w in input_ids[0] if id2word[w.item()] != '[PAD]'])\n",
    "input_ids = input_ids.to(device)\n",
    "segment_ids = segment_ids.to(device)\n",
    "masked_tokens = masked_tokens.to(device)\n",
    "masked_pos = masked_pos.to(device)\n",
    "isNext = isNext.to(device)\n",
    "\n",
    "logits_lm, logits_nsp = model(input_ids, segment_ids, masked_pos)\n",
    "#logits_lm:  (1, max_mask, vocab_size) ==> (1, 5, 34)\n",
    "#logits_nsp: (1, yes/no) ==> (1, 2)\n",
    "\n",
    "#predict masked tokens\n",
    "#max the probability along the vocab dim (2), [1] is the indices of the max, and [0] is the first value\n",
    "logits_lm = logits_lm.data.cpu().max(2)[1][0].data.numpy() \n",
    "#note that zero is padding we add to the masked_tokens\n",
    "print('masked tokens (words) : ',[id2word[pos.item()] for pos in masked_tokens[0]])\n",
    "print('masked tokens list : ',[pos.item() for pos in masked_tokens[0]])\n",
    "print('masked tokens (words) : ',[id2word[pos.item()] for pos in logits_lm])\n",
    "print('predict masked tokens list : ', [pos for pos in logits_lm])\n",
    "\n",
    "#predict nsp\n",
    "logits_nsp = logits_nsp.cpu().data.max(1)[1][0].data.numpy()\n",
    "print(logits_nsp)\n",
    "print('isNext : ', True if isNext else False)\n",
    "print('predict isNext : ',True if logits_nsp else False)"
   ]
  },
  {
   "cell_type": "markdown",
   "metadata": {},
   "source": [
    "Trying a bigger dataset should be able to see the difference."
   ]
  },
  {
   "cell_type": "code",
   "execution_count": null,
   "metadata": {},
   "outputs": [],
   "source": [
    "model"
   ]
  },
  {
   "cell_type": "markdown",
   "metadata": {},
   "source": [
    "## Sentence BERT (Task-2)"
   ]
  },
  {
   "cell_type": "code",
   "execution_count": null,
   "metadata": {},
   "outputs": [],
   "source": [
    "import datasets\n",
    "snli = datasets.load_dataset('snli')\n",
    "mnli = datasets.load_dataset('glue', 'mnli')\n",
    "mnli['train'].features, snli['train'].features"
   ]
  },
  {
   "cell_type": "code",
   "execution_count": null,
   "metadata": {},
   "outputs": [],
   "source": [
    "# List of datasets to remove 'idx' column from\n",
    "mnli.column_names.keys()"
   ]
  },
  {
   "cell_type": "code",
   "execution_count": null,
   "metadata": {},
   "outputs": [],
   "source": [
    "# remove 'idx' column from each dataset\n",
    "for column_names in mnli.column_names.keys():\n",
    "    mnli[column_names] = mnli[column_names].remove_columns('idx')"
   ]
  },
  {
   "cell_type": "code",
   "execution_count": null,
   "metadata": {},
   "outputs": [],
   "source": [
    "# list of datasets to ensure that 'idx' column is removed\n",
    "mnli.column_names.keys()"
   ]
  },
  {
   "cell_type": "code",
   "execution_count": null,
   "metadata": {},
   "outputs": [],
   "source": [
    "# list all label that have in the dataset\n",
    "np.unique(mnli['train']['label'])"
   ]
  },
  {
   "cell_type": "code",
   "execution_count": null,
   "metadata": {},
   "outputs": [],
   "source": [
    "# create dataset dictionary with sample data (since my computer cannot run all dataset)\n",
    "from datasets import DatasetDict\n",
    "\n",
    "raw_dataset = DatasetDict({\n",
    "    'train': mnli['train'].shuffle(seed=55).select(list(range(1000))),\n",
    "    'test': mnli['test_mismatched'].shuffle(seed=55).select(list(range(100))),\n",
    "    'validation': mnli['validation_mismatched'].shuffle(seed=55).select(list(range(100)))\n",
    "})\n",
    "\n",
    "raw_dataset"
   ]
  },
  {
   "cell_type": "markdown",
   "metadata": {},
   "source": [
    "## Preprocessing"
   ]
  },
  {
   "cell_type": "code",
   "execution_count": null,
   "metadata": {},
   "outputs": [],
   "source": [
    "import torch\n",
    "from random import seed, shuffle, random, randint\n",
    "\n",
    "def preprocess_function(examples):\n",
    "    # Constants\n",
    "    MAX_SEQ_LENGTH = 200\n",
    "    MAX_MASK = 5\n",
    "    seed(55)\n",
    "\n",
    "    # Output containers\n",
    "    premise_ids_list = []\n",
    "    hypothesis_ids_list = []\n",
    "    masked_premise_tokens_list = []\n",
    "    masked_premise_pos_list = []\n",
    "    masked_hypothesis_tokens_list = []\n",
    "    masked_hypothesis_pos_list = []\n",
    "    segments_list = []\n",
    "    attention_premise_list = []\n",
    "    attention_hypothesis_list = []\n",
    "    labels = examples['label']\n",
    "\n",
    "    def apply_masking(tokens):\n",
    "        # Determine how many tokens to mask (15% of tokens, at least 1, capped at MAX_MASK)\n",
    "        num_to_mask = min(MAX_MASK, max(1, int(round(len(tokens) * 0.15))))\n",
    "        # Exclude special tokens ([CLS] and [SEP])\n",
    "        valid_positions = [i for i, token in enumerate(tokens)\n",
    "                           if token not in (word2id['[CLS]'], word2id['[SEP]'])]\n",
    "        shuffle(valid_positions)\n",
    "\n",
    "        masked_tokens, masked_positions = [], []\n",
    "        for pos in valid_positions[:num_to_mask]:\n",
    "            masked_positions.append(pos)\n",
    "            masked_tokens.append(tokens[pos])\n",
    "            r = random()\n",
    "            if r < 0.1:\n",
    "                # Replace with a random token\n",
    "                tokens[pos] = word2id[id2word[randint(0, vocab_size - 1)]]\n",
    "            elif r < 0.8:\n",
    "                # Replace with the [MASK] token\n",
    "                tokens[pos] = word2id['[MASK]']\n",
    "            # Otherwise, leave the token unchanged\n",
    "\n",
    "        # Pad or trim lists to ensure fixed length\n",
    "        masked_tokens = (masked_tokens[:MAX_MASK] + [0] * MAX_MASK)[:MAX_MASK]\n",
    "        masked_positions = (masked_positions[:MAX_MASK] + [0] * MAX_MASK)[:MAX_MASK]\n",
    "        return masked_tokens, masked_positions\n",
    "\n",
    "    for premise, hypothesis in zip(examples['premise'], examples['hypothesis']):\n",
    "        # Convert words to token indices (handle OOV words)\n",
    "        premise_tokens = [word2id[word] if word in word_list else len(word_list)\n",
    "                          for word in premise.split()]\n",
    "        hypothesis_tokens = [word2id[word] if word in word_list else len(word_list)\n",
    "                             for word in hypothesis.split()]\n",
    "\n",
    "        # Add special tokens ([CLS] at start and [SEP] at end)\n",
    "        premise_tokens = [word2id['[CLS]']] + premise_tokens + [word2id['[SEP]']]\n",
    "        hypothesis_tokens = [word2id['[CLS]']] + hypothesis_tokens + [word2id['[SEP]']]\n",
    "\n",
    "        # Create segment ids (all zeros) and apply masking\n",
    "        segments = [0] * MAX_SEQ_LENGTH\n",
    "        masked_premise, masked_premise_pos = apply_masking(premise_tokens)\n",
    "        masked_hypothesis, masked_hypothesis_pos = apply_masking(hypothesis_tokens)\n",
    "\n",
    "        # Pad or truncate to fixed sequence length\n",
    "        premise_tokens = (premise_tokens[:MAX_SEQ_LENGTH] + [0] * MAX_SEQ_LENGTH)[:MAX_SEQ_LENGTH]\n",
    "        hypothesis_tokens = (hypothesis_tokens[:MAX_SEQ_LENGTH] + [0] * MAX_SEQ_LENGTH)[:MAX_SEQ_LENGTH]\n",
    "\n",
    "        # Generate attention masks (1 for actual tokens, 0 for padding)\n",
    "        attention_premise = [1 if token != 0 else 0 for token in premise_tokens]\n",
    "        attention_hypothesis = [1 if token != 0 else 0 for token in hypothesis_tokens]\n",
    "\n",
    "        # Append results\n",
    "        premise_ids_list.append(premise_tokens)\n",
    "        hypothesis_ids_list.append(hypothesis_tokens)\n",
    "        segments_list.append(segments)\n",
    "        masked_premise_tokens_list.append(masked_premise)\n",
    "        masked_premise_pos_list.append(masked_premise_pos)\n",
    "        masked_hypothesis_tokens_list.append(masked_hypothesis)\n",
    "        masked_hypothesis_pos_list.append(masked_hypothesis_pos)\n",
    "        attention_premise_list.append(attention_premise)\n",
    "        attention_hypothesis_list.append(attention_hypothesis)\n",
    "\n",
    "    return {\n",
    "        \"premise_input_ids\": premise_ids_list,\n",
    "        \"premise_pos_mask\": masked_premise_pos_list,\n",
    "        \"hypothesis_input_ids\": hypothesis_ids_list,\n",
    "        \"hypothesis_pos_mask\": masked_hypothesis_pos_list,\n",
    "        \"segment_ids\": segments_list,\n",
    "        \"attention_premise\": attention_premise_list,\n",
    "        \"attention_hypothesis\": attention_hypothesis_list,\n",
    "        \"labels\": labels,\n",
    "    }\n",
    "\n",
    "# Apply preprocessing to the dataset\n",
    "tokenized_datasets = raw_dataset.map(preprocess_function, batched=True)\n",
    "tokenized_datasets = tokenized_datasets.remove_columns(['premise', 'hypothesis', 'label'])\n",
    "tokenized_datasets.set_format(\"torch\")"
   ]
  },
  {
   "cell_type": "code",
   "execution_count": null,
   "metadata": {},
   "outputs": [],
   "source": [
    "tokenized_datasets"
   ]
  },
  {
   "cell_type": "code",
   "execution_count": null,
   "metadata": {},
   "outputs": [],
   "source": [
    "from torch.utils.data import DataLoader\n",
    "\n",
    "# create the dataloader\n",
    "batch_size = 10\n",
    "train_dataloader = DataLoader(\n",
    "    tokenized_datasets['train'], \n",
    "    batch_size=batch_size, \n",
    "    shuffle=True\n",
    ")\n",
    "eval_dataloader = DataLoader(\n",
    "    tokenized_datasets['validation'], \n",
    "    batch_size=batch_size\n",
    ")\n",
    "test_dataloader = DataLoader(\n",
    "    tokenized_datasets['test'], \n",
    "    batch_size=batch_size\n",
    ")"
   ]
  },
  {
   "cell_type": "code",
   "execution_count": null,
   "metadata": {},
   "outputs": [],
   "source": [
    "# print the shape of each key \n",
    "for batch in train_dataloader:\n",
    "    print(batch['premise_input_ids'].shape)\n",
    "    print(batch['premise_pos_mask'].shape)\n",
    "    print(batch['hypothesis_input_ids'].shape)\n",
    "    print(batch['hypothesis_pos_mask'].shape)\n",
    "    print(batch['segment_ids'].shape)\n",
    "    print(batch['attention_premise'].shape)\n",
    "    print(batch['attention_hypothesis'].shape)\n",
    "    print(batch['labels'].shape)\n",
    "    break"
   ]
  },
  {
   "cell_type": "markdown",
   "metadata": {},
   "source": [
    "## Model"
   ]
  },
  {
   "cell_type": "code",
   "execution_count": null,
   "metadata": {},
   "outputs": [],
   "source": [
    "# load model from BERT\n",
    "model = BERT()\n",
    "model.load_state_dict(torch.load('models/BERT-model.pt'))"
   ]
  },
  {
   "cell_type": "code",
   "execution_count": null,
   "metadata": {},
   "outputs": [],
   "source": [
    "def mean_pool(token_embeds, attention_mask):\n",
    "    # Ensure attention_mask matches token_embeds length\n",
    "    if attention_mask.shape[1] != token_embeds.shape[1]:\n",
    "        raise ValueError(f\"Mismatch: token_embeds has {token_embeds.shape[1]}, but attention_mask has {attention_mask.shape[1]}\")\n",
    "\n",
    "    # Expand mask and perform mean pooling\n",
    "    in_mask = attention_mask.unsqueeze(-1).float()  # [batch_size, seq_len, 1]\n",
    "    pool = torch.sum(token_embeds * in_mask, dim=1) / torch.clamp(in_mask.sum(dim=1), min=1e-9)\n",
    "\n",
    "    return pool"
   ]
  },
  {
   "cell_type": "code",
   "execution_count": null,
   "metadata": {},
   "outputs": [],
   "source": [
    "def configurations(u,v):\n",
    "    # build the |u-v| tensor\n",
    "    uv = torch.sub(u, v)   # batch_size,hidden_dim\n",
    "    uv_abs = torch.abs(uv) # batch_size,hidden_dim\n",
    "    \n",
    "    # concatenate u, v, |u-v|\n",
    "    x = torch.cat([u, v, uv_abs], dim=-1) # batch_size, 3*hidden_dim\n",
    "    return x\n",
    "\n",
    "def cosine_similarity(u, v):\n",
    "    dot_product = np.dot(u, v)\n",
    "    norm_u = np.linalg.norm(u)\n",
    "    norm_v = np.linalg.norm(v)\n",
    "    similarity = dot_product / (norm_u * norm_v)\n",
    "    return similarity"
   ]
  },
  {
   "cell_type": "code",
   "execution_count": null,
   "metadata": {},
   "outputs": [],
   "source": [
    "# classifier_head has shape (vocab_size*3,3)\n",
    "classifier_head = torch.nn.Linear(23069*3, 3).to(device)\n",
    "\n",
    "optimizer = torch.optim.Adam(s_model.parameters(), lr=2e-5)\n",
    "optimizer_classifier = torch.optim.Adam(classifier_head.parameters(), lr=2e-5)\n",
    "\n",
    "criterion = nn.CrossEntropyLoss()"
   ]
  },
  {
   "cell_type": "code",
   "execution_count": null,
   "metadata": {},
   "outputs": [],
   "source": [
    "from transformers import get_linear_schedule_with_warmup\n",
    "\n",
    "# and setup a warmup for the first ~10% steps\n",
    "total_steps = int(len(raw_dataset) / batch_size)\n",
    "warmup_steps = int(0.1 * total_steps)\n",
    "scheduler = get_linear_schedule_with_warmup(\n",
    "\t\toptimizer, num_warmup_steps=warmup_steps,\n",
    "  \tnum_training_steps=total_steps - warmup_steps\n",
    ")\n",
    "\n",
    "# then during the training loop we update the scheduler per step\n",
    "scheduler.step()\n",
    "\n",
    "scheduler_classifier = get_linear_schedule_with_warmup(\n",
    "\t\toptimizer_classifier, num_warmup_steps=warmup_steps,\n",
    "  \tnum_training_steps=total_steps - warmup_steps\n",
    ")\n",
    "\n",
    "# then during the training loop we update the scheduler per step\n",
    "scheduler_classifier.step()"
   ]
  },
  {
   "cell_type": "code",
   "execution_count": null,
   "metadata": {},
   "outputs": [],
   "source": [
    "from tqdm.auto import tqdm\n",
    "import time\n",
    "import torch\n",
    "\n",
    "num_epoch = 1 \n",
    "# 1 epoch should be enough, increase if wanted\n",
    "start_time = time.time()\n",
    "\n",
    "best_loss = float('inf')  # Global best loss\n",
    "\n",
    "for epoch in range(num_epoch):\n",
    "    s_model.train()  \n",
    "    classifier_head.train()\n",
    "    best_loss_epoch = float('inf')  # Reset for this epoch\n",
    "\n",
    "    for step, batch in enumerate(tqdm(train_dataloader, leave=True)):\n",
    "        optimizer.zero_grad()\n",
    "        optimizer_classifier.zero_grad()\n",
    "        \n",
    "        # Move to device\n",
    "        inputs_ids_a = batch['premise_input_ids'].to(device)\n",
    "        inputs_ids_b = batch['hypothesis_input_ids'].to(device)\n",
    "        segment_ids = batch['segment_ids'].to(device)\n",
    "        attention_a = batch['attention_premise'].to(device)  \n",
    "        attention_b = batch['attention_hypothesis'].to(device)  \n",
    "        label = batch['labels'].to(device)\n",
    "        \n",
    "        # Extract token embeddings from BERT\n",
    "        u, _ = s_model(inputs_ids_a, segment_ids, attention_a)  \n",
    "        v, _ = s_model(inputs_ids_b, segment_ids, attention_b)  \n",
    "\n",
    "        # Mean Pooling\n",
    "        u_mean_pool = mean_pool(u, attention_a)  \n",
    "        v_mean_pool = mean_pool(v, attention_b)  \n",
    "        \n",
    "        # Compute similarity vector\n",
    "        uv = torch.sub(u_mean_pool, v_mean_pool)  \n",
    "        uv_abs = torch.abs(uv)\n",
    "        x = torch.cat([u_mean_pool, v_mean_pool, uv_abs], dim=-1) \n",
    "        \n",
    "        # Classify\n",
    "        x = classifier_head(x)  \n",
    "        loss = criterion(x, label)\n",
    "\n",
    "        # Update best loss\n",
    "        if loss.item() < best_loss_epoch:\n",
    "            best_loss_epoch = loss.item()  # Save best loss for this epoch\n",
    "            best_model = s_model.state_dict()\n",
    "\n",
    "        # Backpropagation\n",
    "        loss.backward()\n",
    "        optimizer.step()\n",
    "        optimizer_classifier.step()\n",
    "\n",
    "    # Update learning rate scheduler per epoch\n",
    "    scheduler.step()\n",
    "    scheduler_classifier.step()\n",
    "\n",
    "    # Save model per epoch if best\n",
    "    if best_loss_epoch < best_loss:\n",
    "        best_loss = best_loss_epoch\n",
    "        torch.save(best_model, 'models/SBERT-model.pt')\n",
    "\n",
    "    print(f'Epoch: {epoch + 1} | Loss = {best_loss_epoch:.6f}')\n",
    "\n",
    "end_time = time.time()\n",
    "epoch_mins, epoch_secs = epoch_time(start_time, end_time)\n",
    "print(f'Time: {epoch_mins}m {epoch_secs}s')"
   ]
  },
  {
   "cell_type": "markdown",
   "metadata": {},
   "source": [
    "## Model Evaluation (Task-3)"
   ]
  },
  {
   "cell_type": "code",
   "execution_count": null,
   "metadata": {},
   "outputs": [],
   "source": [
    "from sklearn.metrics.pairwise import cosine_similarity\n",
    "from sklearn.metrics import accuracy_score, precision_recall_fscore_support\n",
    "\n",
    "# Global constants\n",
    "MAX_SEQ_LENGTH = 200\n",
    "MAX_MASK = 5\n",
    "\n",
    "def count_parameters(model):\n",
    "    total_params = sum(p.numel() for p in model.parameters() if p.requires_grad)\n",
    "    print(f'______\\n{total_params:>6}')"
   ]
  },
  {
   "cell_type": "code",
   "execution_count": null,
   "metadata": {},
   "outputs": [],
   "source": [
    "def calculate_loss_s_model(model, classifier, criterion, eval_dataloader):\n",
    "    model.eval()\n",
    "    classifier.eval()\n",
    "    total_loss = 0\n",
    "\n",
    "    with torch.no_grad():\n",
    "        for batch in eval_dataloader:\n",
    "            # Move batch data to device\n",
    "            premise_ids = batch['premise_input_ids'].to(device)\n",
    "            hypothesis_ids = batch['hypothesis_input_ids'].to(device)\n",
    "            segments = batch['segment_ids'].to(device)\n",
    "            attention_premise = batch['attention_premise'].to(device)\n",
    "            attention_hypothesis = batch['attention_hypothesis'].to(device)\n",
    "            labels = batch['labels'].to(device)\n",
    "\n",
    "            # Extract embeddings from the model\n",
    "            u, _ = model(premise_ids, segments, attention_premise)\n",
    "            v, _ = model(hypothesis_ids, segments, attention_hypothesis)\n",
    "\n",
    "            # Mean pooling of token embeddings\n",
    "            u_mean = mean_pool(u, attention_premise)\n",
    "            v_mean = mean_pool(v, attention_hypothesis)\n",
    "\n",
    "            # Form feature vector: concatenate u, v, and |u-v|\n",
    "            diff = torch.sub(u_mean, v_mean)\n",
    "            features = torch.cat([u_mean, v_mean, torch.abs(diff)], dim=-1)\n",
    "\n",
    "            # Classifier prediction and loss computation\n",
    "            logits = classifier(features)\n",
    "            loss = criterion(logits, labels)\n",
    "            total_loss += loss.item()\n",
    "\n",
    "    average_loss = total_loss / len(eval_dataloader)\n",
    "    return average_loss"
   ]
  },
  {
   "cell_type": "code",
   "execution_count": null,
   "metadata": {},
   "outputs": [],
   "source": [
    "def calculate_cosine_sim_s_model(model, classifier, eval_dataloader):\n",
    "    model.eval()\n",
    "    classifier.eval()\n",
    "    total_similarity = 0\n",
    "    batch_count = 0\n",
    "\n",
    "    with torch.no_grad():\n",
    "        for batch in eval_dataloader:\n",
    "            # Move batch data to device\n",
    "            premise_ids = batch['premise_input_ids'].to(device)\n",
    "            hypothesis_ids = batch['hypothesis_input_ids'].to(device)\n",
    "            segments = batch['segment_ids'].to(device)\n",
    "            attention_premise = batch['attention_premise'].to(device)\n",
    "            attention_hypothesis = batch['attention_hypothesis'].to(device)\n",
    "\n",
    "            # Extract embeddings\n",
    "            u, _ = model(premise_ids, segments, attention_premise)\n",
    "            v, _ = model(hypothesis_ids, segments, attention_hypothesis)\n",
    "\n",
    "            # Mean pooling\n",
    "            u_mean = mean_pool(u, attention_premise)\n",
    "            v_mean = mean_pool(v, attention_hypothesis)\n",
    "\n",
    "            # Compute cosine similarity for the batch\n",
    "            sim_scores = F.cosine_similarity(u_mean, v_mean, dim=-1)\n",
    "            total_similarity += sim_scores.mean().item()\n",
    "            batch_count += 1\n",
    "\n",
    "    return total_similarity / batch_count"
   ]
  },
  {
   "cell_type": "code",
   "execution_count": null,
   "metadata": {},
   "outputs": [],
   "source": [
    "def tokenize_sentence_s_model(sentence_a, sentence_b):\n",
    "    # For consistent masking behavior\n",
    "    seed(55)\n",
    "    \n",
    "    # Tokenize each sentence (convert words to indices)\n",
    "    premise_tokens = [word2id[word] if word in word_list else len(word_list) for word in sentence_a.split()]\n",
    "    hypothesis_tokens = [word2id[word] if word in word_list else len(word_list) for word in sentence_b.split()]\n",
    "\n",
    "    # Add special tokens: [CLS] at the beginning and [SEP] at the end\n",
    "    premise_ids = [word2id['[CLS]']] + premise_tokens + [word2id['[SEP]']]\n",
    "    hypothesis_ids = [word2id['[CLS]']] + hypothesis_tokens + [word2id['[SEP]']]\n",
    "\n",
    "    # Create segment IDs: 0 for premise and 1 for hypothesis\n",
    "    segment_ids = [0] * len(premise_ids) + [1] * len(hypothesis_ids)\n",
    "    segment_ids = segment_ids[:MAX_SEQ_LENGTH] + [0] * (MAX_SEQ_LENGTH - len(segment_ids))\n",
    "    \n",
    "    def apply_masking(input_ids):\n",
    "        \"\"\"\n",
    "        Masks approximately 15% of tokens (excluding special tokens).\n",
    "        \"\"\"\n",
    "        num_to_mask = min(MAX_MASK, max(1, int(round(len(input_ids) * 0.15))))\n",
    "        candidate_positions = [i for i, token in enumerate(input_ids)\n",
    "                               if token not in [word2id['[CLS]'], word2id['[SEP]']]]\n",
    "        shuffle(candidate_positions)\n",
    "        masked_tokens = []\n",
    "        masked_positions = []\n",
    "        for pos in candidate_positions[:num_to_mask]:\n",
    "            masked_positions.append(pos)\n",
    "            masked_tokens.append(input_ids[pos])\n",
    "            rand_val = random()\n",
    "            if rand_val < 0.8:\n",
    "                input_ids[pos] = word2id['[MASK]']  # 80% [MASK]\n",
    "            elif rand_val < 0.9:\n",
    "                input_ids[pos] = word2id[id2word[randint(0, vocab_size - 1)]]  # 10% random token\n",
    "            # else: keep the original token\n",
    "        # Pad masked tokens and positions if needed\n",
    "        masked_tokens += [0] * (MAX_MASK - len(masked_tokens))\n",
    "        masked_positions += [0] * (MAX_MASK - len(masked_positions))\n",
    "        return masked_tokens[:MAX_MASK], masked_positions[:MAX_MASK]\n",
    "\n",
    "    # Apply masking to copies so original IDs remain intact if needed elsewhere\n",
    "    masked_tokens_premise, masked_pos_premise = apply_masking(premise_ids.copy())\n",
    "    masked_tokens_hypothesis, masked_pos_hypothesis = apply_masking(hypothesis_ids.copy())\n",
    "\n",
    "    # Pad or truncate input IDs to MAX_SEQ_LENGTH\n",
    "    premise_ids = (premise_ids[:MAX_SEQ_LENGTH] + [0] * MAX_SEQ_LENGTH)[:MAX_SEQ_LENGTH]\n",
    "    hypothesis_ids = (hypothesis_ids[:MAX_SEQ_LENGTH] + [0] * MAX_SEQ_LENGTH)[:MAX_SEQ_LENGTH]\n",
    "\n",
    "    # Create attention masks (1 for real tokens, 0 for padding)\n",
    "    attention_premise = [1 if token != 0 else 0 for token in premise_ids]\n",
    "    attention_hypothesis = [1 if token != 0 else 0 for token in hypothesis_ids]\n",
    "\n",
    "    return {\n",
    "        \"premise_input_ids\": [premise_ids],\n",
    "        \"premise_pos_mask\": [masked_pos_premise],\n",
    "        \"hypothesis_input_ids\": [hypothesis_ids],\n",
    "        \"hypothesis_pos_mask\": [masked_pos_hypothesis],\n",
    "        \"segment_ids\": [segment_ids],\n",
    "        \"attention_premise\": [attention_premise],\n",
    "        \"attention_hypothesis\": [attention_hypothesis],\n",
    "    }"
   ]
  },
  {
   "cell_type": "code",
   "execution_count": null,
   "metadata": {},
   "outputs": [],
   "source": [
    "def mean_pool(token_embeds, attention_mask):\n",
    "    if attention_mask.shape[1] != token_embeds.shape[1]:\n",
    "        attention_mask = attention_mask[:, :token_embeds.shape[1]]\n",
    "    mask = attention_mask.unsqueeze(-1).float()\n",
    "    pooled = torch.sum(token_embeds * mask, dim=1) / torch.clamp(mask.sum(dim=1), min=1e-9)\n",
    "    return pooled\n"
   ]
  },
  {
   "cell_type": "code",
   "execution_count": null,
   "metadata": {},
   "outputs": [],
   "source": [
    "def calculate_similarity_s_model(model, sentence_a, sentence_b, device):\n",
    "    inputs = tokenize_sentence_s_model(sentence_a, sentence_b)\n",
    "    \n",
    "    # Convert inputs to tensors and send to device\n",
    "    premise_ids = torch.tensor(inputs['premise_input_ids']).to(device)\n",
    "    pos_mask_premise = torch.tensor(inputs['premise_pos_mask']).to(device)\n",
    "    attention_premise = torch.tensor(inputs['attention_premise']).to(device)\n",
    "    hypothesis_ids = torch.tensor(inputs['hypothesis_input_ids']).to(device)\n",
    "    pos_mask_hypothesis = torch.tensor(inputs['hypothesis_pos_mask']).to(device)\n",
    "    attention_hypothesis = torch.tensor(inputs['attention_hypothesis']).to(device)\n",
    "    segments = torch.tensor(inputs['segment_ids']).to(device)\n",
    "\n",
    "    # Remove extra batch dimension if necessary\n",
    "    premise_ids = premise_ids.squeeze(0) if premise_ids.dim() > 2 else premise_ids\n",
    "    hypothesis_ids = hypothesis_ids.squeeze(0) if hypothesis_ids.dim() > 2 else hypothesis_ids\n",
    "    segments = segments.squeeze(0) if segments.dim() > 2 else segments\n",
    "\n",
    "    model.eval()\n",
    "    with torch.no_grad():\n",
    "        u, _ = model(premise_ids, segments, pos_mask_premise)\n",
    "        v, _ = model(hypothesis_ids, segments, pos_mask_hypothesis)\n",
    "\n",
    "    # Mean pooling and convert to numpy arrays for similarity computation\n",
    "    u_mean = mean_pool(u, attention_premise).detach().cpu().numpy().squeeze(0)\n",
    "    v_mean = mean_pool(v, attention_hypothesis).detach().cpu().numpy().squeeze(0)\n",
    "    similarity = cosine_similarity(u_mean.reshape(1, -1), v_mean.reshape(1, -1))[0, 0]\n",
    "    return similarity"
   ]
  },
  {
   "cell_type": "code",
   "execution_count": null,
   "metadata": {},
   "outputs": [],
   "source": [
    "def evaluate_nli_model(model, classifier, eval_dataloader, device):\n",
    "    model.eval()\n",
    "    classifier.eval()\n",
    "    all_preds, all_labels = [], []\n",
    "\n",
    "    with torch.no_grad():\n",
    "        for batch in tqdm(eval_dataloader, desc=\"Evaluating\"):\n",
    "            premise_ids = batch['premise_input_ids'].to(device)\n",
    "            hypothesis_ids = batch['hypothesis_input_ids'].to(device)\n",
    "            pos_mask_premise = batch['premise_pos_mask'].to(device)\n",
    "            pos_mask_hypothesis = batch['hypothesis_pos_mask'].to(device)\n",
    "            segments = batch['segment_ids'].to(device)\n",
    "            attention_premise = batch['attention_premise'].to(device)\n",
    "            attention_hypothesis = batch['attention_hypothesis'].to(device)\n",
    "            labels = batch['labels'].to(device)\n",
    "\n",
    "            u, _ = model(premise_ids, segments, pos_mask_premise)\n",
    "            v, _ = model(hypothesis_ids, segments, pos_mask_hypothesis)\n",
    "\n",
    "            u_mean = mean_pool(u, attention_premise)\n",
    "            v_mean = mean_pool(v, attention_hypothesis)\n",
    "            diff_abs = torch.abs(u_mean - v_mean)\n",
    "            features = torch.cat([u_mean, v_mean, diff_abs], dim=-1)\n",
    "            logits = classifier(features)\n",
    "\n",
    "            preds = torch.argmax(logits, dim=1)\n",
    "            all_preds.extend(preds.cpu().numpy())\n",
    "            all_labels.extend(labels.cpu().numpy())\n",
    "\n",
    "    accuracy = accuracy_score(all_labels, all_preds)\n",
    "    precision, recall, f1, _ = precision_recall_fscore_support(all_labels, all_preds, average='weighted')\n",
    "    \n",
    "    print(f'Accuracy: {accuracy:.4f}')\n",
    "    print(f'Precision: {precision:.4f}')\n",
    "    print(f'Recall: {recall:.4f}')\n",
    "    print(f'F1-score: {f1:.4f}')\n",
    "    \n",
    "    return {'accuracy': accuracy, 'precision': precision, 'recall': recall, 'f1': f1}\n"
   ]
  },
  {
   "cell_type": "code",
   "execution_count": null,
   "metadata": {},
   "outputs": [],
   "source": [
    "def predict_nli_and_similarity(model, classifier_head, sentence_a, sentence_b, device):\n",
    "    inputs = tokenize_sentence_s_model(sentence_a, sentence_b)\n",
    "    \n",
    "    # Convert inputs to tensors and move to device\n",
    "    premise_ids = torch.tensor(inputs['premise_input_ids']).to(device)\n",
    "    pos_mask_premise = torch.tensor(inputs['premise_pos_mask']).to(device)\n",
    "    attention_premise = torch.tensor(inputs['attention_premise']).to(device)\n",
    "    hypothesis_ids = torch.tensor(inputs['hypothesis_input_ids']).to(device)\n",
    "    pos_mask_hypothesis = torch.tensor(inputs['hypothesis_pos_mask']).to(device)\n",
    "    attention_hypothesis = torch.tensor(inputs['attention_hypothesis']).to(device)\n",
    "    segments = torch.tensor(inputs['segment_ids']).to(device)\n",
    "\n",
    "    with torch.no_grad():\n",
    "        u, _ = model(premise_ids, segments, pos_mask_premise)\n",
    "        v, _ = model(hypothesis_ids, segments, pos_mask_hypothesis)\n",
    "\n",
    "    u_mean = mean_pool(u, attention_premise)\n",
    "    v_mean = mean_pool(v, attention_hypothesis)\n",
    "\n",
    "    # Compute cosine similarity\n",
    "    u_np = u_mean.cpu().numpy().reshape(1, -1)\n",
    "    v_np = v_mean.cpu().numpy().reshape(1, -1)\n",
    "    similarity_score = cosine_similarity(u_np, v_np)[0, 0]\n",
    "\n",
    "    # NLI classification\n",
    "    diff_abs = torch.abs(u_mean - v_mean)\n",
    "    features = torch.cat([u_mean, v_mean, diff_abs], dim=-1)\n",
    "    with torch.no_grad():\n",
    "        logits = classifier_head(features)\n",
    "        probabilities = F.softmax(logits, dim=-1)\n",
    "    labels = [\"contradiction\", \"neutral\", \"entailment\"]\n",
    "    nli_result = labels[torch.argmax(probabilities).item()]\n",
    "\n",
    "    return similarity_score, nli_result"
   ]
  },
  {
   "cell_type": "code",
   "execution_count": null,
   "metadata": {},
   "outputs": [],
   "source": [
    "# Instantiate and load the BERT model (ensure BERT is defined elsewhere)\n",
    "model2 = BERT()\n",
    "model2.load_state_dict(torch.load('models/SBERT-model.pt'))"
   ]
  },
  {
   "cell_type": "code",
   "execution_count": null,
   "metadata": {},
   "outputs": [],
   "source": [
    "# Example evaluations and predictions:\n",
    "calculate_cosine_sim_s_model(our_model, classifier_head, eval_dataloader)\n",
    "calculate_loss_s_model(our_model, classifier_head, criterion, eval_dataloader)\n",
    "\n",
    "sentence_a = \"A woman is jogging along the beach at sunrise\"\n",
    "sentence_b = \"The woman is running by the ocean early in the morning\"\n",
    "similarity = calculate_similarity_model1(model2, sentence_a, sentence_b, device)\n",
    "print(f\"Cosine Similarity: {similarity:.4f}\")\n",
    "\n",
    "eval_metrics = evaluate_nli_model(model2, classifier_head, eval_dataloader, device)\n",
    "print(eval_metrics)\n",
    "\n",
    "sentence_a = \"A woman is jogging along the beach at sunrise\"\n",
    "sentence_b = \"The woman is running by the ocean early in the morning\"\n",
    "similarity, nli_result = predict_nli_and_similarity(model2, classifier_head, sentence_a, sentence_b, device)\n",
    "print(f\"Cosine Similarity: {similarity:.4f}\")\n",
    "print(f\"NLI Prediction: {nli_result}\")\n",
    "\n",
    "sentence_a = \"A group of teenagers are hanging out at a mall\"\n",
    "sentence_b = \"Several young people are spending time together in a shopping center\"\n",
    "similarity, nli_result = predict_nli_and_similarity(model2, classifier_head, sentence_a, sentence_b, device)\n",
    "print(f\"Cosine Similarity: {similarity:.4f}\")\n",
    "print(f\"NLI Prediction: {nli_result}\")"
   ]
  }
 ],
 "metadata": {
  "colab": {
   "provenance": []
  },
  "kernelspec": {
   "display_name": "Python 3 (ipykernel)",
   "language": "python",
   "name": "python3"
  },
  "language_info": {
   "codemirror_mode": {
    "name": "ipython",
    "version": 3
   },
   "file_extension": ".py",
   "mimetype": "text/x-python",
   "name": "python",
   "nbconvert_exporter": "python",
   "pygments_lexer": "ipython3",
   "version": "3.12.6"
  }
 },
 "nbformat": 4,
 "nbformat_minor": 4
}
